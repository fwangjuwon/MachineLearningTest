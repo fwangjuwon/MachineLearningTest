{
 "cells": [
  {
   "cell_type": "markdown",
   "id": "e8dda223",
   "metadata": {},
   "source": [
    "# 텍스트 전처리\n",
    "- 토큰화\n",
    "- 한글은 konlpy 영어 nltk 라는 라이브러리 쓰면 된다. (카카오 khaiii)\n",
    "- 형태소 추출 morphs() \n",
    "- 명사 추출 nouns() \n",
    "- 품사와 함께 추출 pos() \n",
    "- 어절 추출 phrases()"
   ]
  },
  {
   "cell_type": "code",
   "execution_count": 24,
   "id": "9e46252c",
   "metadata": {},
   "outputs": [
    {
     "name": "stdout",
     "output_type": "stream",
     "text": [
      "Requirement already satisfied: konlpy in c:\\programdata\\anaconda3\\lib\\site-packages (0.6.0)\n",
      "Requirement already satisfied: lxml>=4.1.0 in c:\\programdata\\anaconda3\\lib\\site-packages (from konlpy) (4.8.0)\n",
      "Requirement already satisfied: JPype1>=0.7.0 in c:\\programdata\\anaconda3\\lib\\site-packages (from konlpy) (1.4.0)\n",
      "Requirement already satisfied: numpy>=1.6 in c:\\programdata\\anaconda3\\lib\\site-packages (from konlpy) (1.21.5)\n",
      "Note: you may need to restart the kernel to use updated packages.\n"
     ]
    }
   ],
   "source": [
    "pip install konlpy"
   ]
  },
  {
   "cell_type": "code",
   "execution_count": 25,
   "id": "0ebd0543",
   "metadata": {},
   "outputs": [],
   "source": [
    "words = \"오늘은 5월 24일... 화요일이다. 날씨는 벌써 여름이다. 여름이었다...\""
   ]
  },
  {
   "cell_type": "code",
   "execution_count": 26,
   "id": "34fbd20c",
   "metadata": {},
   "outputs": [],
   "source": [
    "from konlpy.tag import Okt"
   ]
  },
  {
   "cell_type": "markdown",
   "id": "c3a49c64",
   "metadata": {},
   "source": [
    "### 형태소\n",
    "- 뜻을 가진 가장 작은 말의 단위\n",
    "\n",
    "### 어절\n",
    "- 말할 때 꼭 붙여 발음하는 말의 단위\n",
    "\n",
    "### 품사 \n",
    "- 단어를 기능, 형태, 의미에 따라 나눈 갈래"
   ]
  },
  {
   "cell_type": "code",
   "execution_count": 27,
   "id": "bcad8bd9",
   "metadata": {},
   "outputs": [
    {
     "data": {
      "text/plain": [
       "['오늘',\n",
       " '은',\n",
       " '5월',\n",
       " '24일',\n",
       " '...',\n",
       " '화요일',\n",
       " '이다',\n",
       " '.',\n",
       " '날씨',\n",
       " '는',\n",
       " '벌써',\n",
       " '여름',\n",
       " '이다',\n",
       " '.',\n",
       " '여름',\n",
       " '이었다',\n",
       " '...']"
      ]
     },
     "execution_count": 27,
     "metadata": {},
     "output_type": "execute_result"
    }
   ],
   "source": [
    "okt = Okt()\n",
    "okt.morphs(words)"
   ]
  },
  {
   "cell_type": "code",
   "execution_count": 28,
   "id": "6b915938",
   "metadata": {},
   "outputs": [
    {
     "data": {
      "text/plain": [
       "['오늘', '5월', '5월 24일', '화요일', '날씨', '벌써', '벌써 여름', '여름', '24일']"
      ]
     },
     "execution_count": 28,
     "metadata": {},
     "output_type": "execute_result"
    }
   ],
   "source": [
    "okt.phrases(words)"
   ]
  },
  {
   "cell_type": "code",
   "execution_count": 29,
   "id": "91ebf115",
   "metadata": {},
   "outputs": [
    {
     "data": {
      "text/plain": [
       "['오늘', '화요일', '날씨', '벌써', '여름', '여름']"
      ]
     },
     "execution_count": 29,
     "metadata": {},
     "output_type": "execute_result"
    }
   ],
   "source": [
    "okt.nouns(words)"
   ]
  },
  {
   "cell_type": "code",
   "execution_count": 30,
   "id": "1adb4fe7",
   "metadata": {},
   "outputs": [
    {
     "data": {
      "text/plain": [
       "[('오늘', 'Noun'),\n",
       " ('은', 'Josa'),\n",
       " ('5월', 'Number'),\n",
       " ('24일', 'Number'),\n",
       " ('...', 'Punctuation'),\n",
       " ('화요일', 'Noun'),\n",
       " ('이다', 'Josa'),\n",
       " ('.', 'Punctuation'),\n",
       " ('날씨', 'Noun'),\n",
       " ('는', 'Josa'),\n",
       " ('벌써', 'Noun'),\n",
       " ('여름', 'Noun'),\n",
       " ('이다', 'Josa'),\n",
       " ('.', 'Punctuation'),\n",
       " ('여름', 'Noun'),\n",
       " ('이었다', 'Verb'),\n",
       " ('...', 'Punctuation')]"
      ]
     },
     "execution_count": 30,
     "metadata": {},
     "output_type": "execute_result"
    }
   ],
   "source": [
    "okt.pos(words)"
   ]
  },
  {
   "cell_type": "code",
   "execution_count": 31,
   "id": "ca616b23",
   "metadata": {},
   "outputs": [],
   "source": [
    "tokens = okt.morphs(\"나는 자연어 처리를 배운다\")"
   ]
  },
  {
   "cell_type": "code",
   "execution_count": 32,
   "id": "1f54c6a6",
   "metadata": {},
   "outputs": [
    {
     "data": {
      "text/plain": [
       "['나', '는', '자연어', '처리', '를', '배운다']"
      ]
     },
     "execution_count": 32,
     "metadata": {},
     "output_type": "execute_result"
    }
   ],
   "source": [
    "tokens"
   ]
  },
  {
   "cell_type": "code",
   "execution_count": 49,
   "id": "d5ab6e09",
   "metadata": {},
   "outputs": [
    {
     "data": {
      "text/plain": [
       "{'나': 0, '는': 1, '자연어': 2, '처리': 3, '를': 4, '배운다': 5}"
      ]
     },
     "execution_count": 49,
     "metadata": {},
     "output_type": "execute_result"
    }
   ],
   "source": [
    "word_to_index= {word:index for index, word in enumerate(tokens)}\n",
    "word_to_index"
   ]
  },
  {
   "cell_type": "code",
   "execution_count": 50,
   "id": "488ee31b",
   "metadata": {},
   "outputs": [
    {
     "name": "stdout",
     "output_type": "stream",
     "text": [
      "16384\n"
     ]
    }
   ],
   "source": [
    "# 단어 집합 총 10000개 - 중복 제거 해서 찾기 \n",
    "# 2의 14승 \n",
    "\n",
    "# 00000000000000 [0000000000000] 패딩 [0]00000000000 변환된 값\n",
    "# 00000000000001\n",
    "# 00000000000010\n",
    "# 00000000000011\n",
    "# 00000000000100\n",
    "# 00000000000101\n",
    "print(2**14)"
   ]
  },
  {
   "cell_type": "code",
   "execution_count": 54,
   "id": "a802aec1",
   "metadata": {},
   "outputs": [],
   "source": [
    "one_hot = [0]*len(word_to_index)"
   ]
  },
  {
   "cell_type": "code",
   "execution_count": 58,
   "id": "5d1346cb",
   "metadata": {},
   "outputs": [
    {
     "data": {
      "text/plain": [
       "[0, 1, 1, 1, 0, 0]"
      ]
     },
     "execution_count": 58,
     "metadata": {},
     "output_type": "execute_result"
    }
   ],
   "source": [
    "index = word_to_index[\"처리\"]\n",
    "one_hot[index]=1\n",
    "one_hot"
   ]
  },
  {
   "cell_type": "code",
   "execution_count": null,
   "id": "137de5ec",
   "metadata": {},
   "outputs": [],
   "source": []
  },
  {
   "cell_type": "markdown",
   "id": "91713156",
   "metadata": {},
   "source": [
    "### 파이썬 문법 정리\n",
    " - 리스트 내포\n",
    " - enumerate 함수 공부"
   ]
  },
  {
   "cell_type": "code",
   "execution_count": 33,
   "id": "7e0602b7",
   "metadata": {},
   "outputs": [],
   "source": [
    "w=[\"가\", \"나\", \"다\", \"라\"]"
   ]
  },
  {
   "cell_type": "code",
   "execution_count": 39,
   "id": "ef73a850",
   "metadata": {},
   "outputs": [
    {
     "name": "stdout",
     "output_type": "stream",
     "text": [
      "0 가\n",
      "1 나\n",
      "2 다\n",
      "3 라\n"
     ]
    }
   ],
   "source": [
    "for index, word in enumerate(w):\n",
    "    print(index, word)"
   ]
  },
  {
   "cell_type": "code",
   "execution_count": 42,
   "id": "ec3402b4",
   "metadata": {},
   "outputs": [
    {
     "data": {
      "text/plain": [
       "[2, 4, 6]"
      ]
     },
     "execution_count": 42,
     "metadata": {},
     "output_type": "execute_result"
    }
   ],
   "source": [
    "list = [1,2,3]\n",
    "result = [a*2 for a in list]\n",
    "result\n"
   ]
  },
  {
   "cell_type": "code",
   "execution_count": 45,
   "id": "4306956f",
   "metadata": {},
   "outputs": [
    {
     "name": "stdout",
     "output_type": "stream",
     "text": [
      "[6, 12]\n"
     ]
    }
   ],
   "source": [
    "list = [1,2,3,4]\n",
    "result = [a * 3 for a in list if a%2 ==0]\n",
    "print(result)"
   ]
  },
  {
   "cell_type": "code",
   "execution_count": 51,
   "id": "65e4e2b1",
   "metadata": {},
   "outputs": [
    {
     "data": {
      "text/plain": [
       "6"
      ]
     },
     "execution_count": 51,
     "metadata": {},
     "output_type": "execute_result"
    }
   ],
   "source": []
  },
  {
   "cell_type": "code",
   "execution_count": null,
   "id": "96b574c4",
   "metadata": {},
   "outputs": [],
   "source": []
  }
 ],
 "metadata": {
  "kernelspec": {
   "display_name": "Python 3 (ipykernel)",
   "language": "python",
   "name": "python3"
  },
  "language_info": {
   "codemirror_mode": {
    "name": "ipython",
    "version": 3
   },
   "file_extension": ".py",
   "mimetype": "text/x-python",
   "name": "python",
   "nbconvert_exporter": "python",
   "pygments_lexer": "ipython3",
   "version": "3.9.12"
  }
 },
 "nbformat": 4,
 "nbformat_minor": 5
}
