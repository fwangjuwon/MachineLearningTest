{
 "cells": [
  {
   "cell_type": "code",
   "execution_count": 44,
   "id": "e2f30a0b",
   "metadata": {},
   "outputs": [],
   "source": [
    "import pandas as pd\n",
    "import numpy as np\n",
    "import matplotlib.pyplot as plt \n",
    "from sklearn.neighbors import KNeighborsClassifier"
   ]
  },
  {
   "cell_type": "code",
   "execution_count": 45,
   "id": "7367548f",
   "metadata": {},
   "outputs": [],
   "source": [
    "bream_length = pd.read_csv(\"bream_length.csv\").to_numpy()\n",
    "bream_weight = pd.read_csv(\"bream_weight.csv\").to_numpy()\n",
    "smelt_length = pd.read_csv(\"smelt_length.csv\").to_numpy()\n",
    "smelt_weight = pd.read_csv(\"smelt_weight.csv\").to_numpy()"
   ]
  },
  {
   "cell_type": "code",
   "execution_count": 46,
   "id": "97973f6e",
   "metadata": {},
   "outputs": [
    {
     "data": {
      "image/png": "[encoded data removed]",
      "text/plain": [
       "<Figure size 432x288 with 1 Axes>"
      ]
     },
     "metadata": {
      "needs_background": "light"
     },
     "output_type": "display_data"
    }
   ],
   "source": [
    "plt.scatter(bream_length, bream_weight)\n",
    "plt.scatter(smelt_length, smelt_weight)\n",
    "plt.xlabel('length')\n",
    "plt.ylabel('weight')\n",
    "plt.show()"
   ]
  },
  {
   "cell_type": "code",
   "execution_count": 47,
   "id": "384aeb9b",
   "metadata": {},
   "outputs": [
    {
     "name": "stdout",
     "output_type": "stream",
     "text": [
      "[[  26.3  290. ]\n",
      " [  26.5  340. ]\n",
      " [  29.   363. ]\n",
      " [  29.   430. ]\n",
      " [  29.7  450. ]\n",
      " [  29.7  500. ]\n",
      " [  30.   390. ]\n",
      " [  30.   450. ]\n",
      " [  30.7  500. ]\n",
      " [  31.   475. ]\n",
      " [  31.   500. ]\n",
      " [  31.5  500. ]\n",
      " [  32.   340. ]\n",
      " [  32.   600. ]\n",
      " [  32.   600. ]\n",
      " [  33.   700. ]\n",
      " [  33.   700. ]\n",
      " [  33.5  610. ]\n",
      " [  33.5  650. ]\n",
      " [  34.   575. ]\n",
      " [  34.   685. ]\n",
      " [  34.5  620. ]\n",
      " [  35.   680. ]\n",
      " [  35.   700. ]\n",
      " [  35.   725. ]\n",
      " [  35.   720. ]\n",
      " [  36.   714. ]\n",
      " [  36.   850. ]\n",
      " [  37.  1000. ]\n",
      " [  38.5  920. ]\n",
      " [  38.5  955. ]\n",
      " [  39.5  925. ]\n",
      " [  41.   975. ]\n",
      " [  41.   950. ]\n",
      " [  10.5    7.5]\n",
      " [  10.6    7. ]\n",
      " [  11.     9.7]\n",
      " [  11.2    9.8]\n",
      " [  11.3    8.7]\n",
      " [  11.8   10. ]\n",
      " [  11.8    9.9]\n",
      " [  12.     9.8]\n",
      " [  12.2   12.2]\n",
      " [  12.4   13.4]\n",
      " [  13.    12.2]\n",
      " [  14.3   19.7]\n",
      " [  15.    19.9]]\n"
     ]
    }
   ],
   "source": [
    "fish_length = np.concatenate((bream_length, smelt_length))\n",
    "fish_weight = np.concatenate((bream_weight, smelt_weight))\n",
    "\n",
    "fish_data = np.column_stack((fish_length, fish_weight))\n",
    "print(fish_data)"
   ]
  },
  {
   "cell_type": "code",
   "execution_count": 48,
   "id": "08c529b3",
   "metadata": {},
   "outputs": [
    {
     "name": "stdout",
     "output_type": "stream",
     "text": [
      "(34, 1)\n",
      "(13, 1)\n",
      "[1. 1. 1. 1. 1. 1. 1. 1. 1. 1. 1. 1. 1. 1. 1. 1. 1. 1. 1. 1. 1. 1. 1. 1.\n",
      " 1. 1. 1. 1. 1. 1. 1. 1. 1. 1. 1. 0. 0. 0. 0. 0. 0. 0. 0. 0. 0. 0. 0. 0.\n",
      " 0.]\n"
     ]
    }
   ],
   "source": [
    "print(bream_length.shape)\n",
    "print(smelt_length.shape)\n",
    "\n",
    "fish_target = np.concatenate((np.ones(35), np.zeros(14)))\n",
    "print(fish_target)"
   ]
  },
  {
   "cell_type": "code",
   "execution_count": 49,
   "id": "7f95cbee",
   "metadata": {},
   "outputs": [],
   "source": [
    "index = np.arange(47)"
   ]
  },
  {
   "cell_type": "code",
   "execution_count": 50,
   "id": "a5bb3a8c",
   "metadata": {},
   "outputs": [
    {
     "name": "stdout",
     "output_type": "stream",
     "text": [
      "[13 42 34 24 43 16 11  4 27 39 10 22 20 18 37 41 29  6  5  1  3 26 31 21\n",
      "  9 30 40 45 14  7 33 23 12  8 38 35 25 36  2 44 15 17 32  0 19 46 28]\n"
     ]
    }
   ],
   "source": [
    "np.random.shuffle(index)\n",
    "print(index)"
   ]
  },
  {
   "cell_type": "code",
   "execution_count": 51,
   "id": "d8311098",
   "metadata": {},
   "outputs": [],
   "source": [
    "fish_data = fish_data[index]\n",
    "fish_target = fish_target[index]"
   ]
  },
  {
   "cell_type": "code",
   "execution_count": 52,
   "id": "c5a6b0c6",
   "metadata": {},
   "outputs": [
    {
     "name": "stdout",
     "output_type": "stream",
     "text": [
      "[[  32.   600. ]\n",
      " [  12.2   12.2]\n",
      " [  10.5    7.5]\n",
      " [  35.   725. ]\n",
      " [  12.4   13.4]\n",
      " [  33.   700. ]\n",
      " [  31.5  500. ]\n",
      " [  29.7  450. ]\n",
      " [  36.   850. ]\n",
      " [  11.8   10. ]\n",
      " [  31.   500. ]\n",
      " [  35.   680. ]\n",
      " [  34.   685. ]\n",
      " [  33.5  650. ]\n",
      " [  11.2    9.8]\n",
      " [  12.     9.8]\n",
      " [  38.5  920. ]\n",
      " [  30.   390. ]\n",
      " [  29.7  500. ]\n",
      " [  26.5  340. ]\n",
      " [  29.   430. ]\n",
      " [  36.   714. ]\n",
      " [  39.5  925. ]\n",
      " [  34.5  620. ]\n",
      " [  31.   475. ]\n",
      " [  38.5  955. ]\n",
      " [  11.8    9.9]\n",
      " [  14.3   19.7]\n",
      " [  32.   600. ]\n",
      " [  30.   450. ]\n",
      " [  41.   950. ]\n",
      " [  35.   700. ]\n",
      " [  32.   340. ]\n",
      " [  30.7  500. ]\n",
      " [  11.3    8.7]\n",
      " [  10.6    7. ]\n",
      " [  35.   720. ]\n",
      " [  11.     9.7]\n",
      " [  29.   363. ]\n",
      " [  13.    12.2]\n",
      " [  33.   700. ]\n",
      " [  33.5  610. ]\n",
      " [  41.   975. ]\n",
      " [  26.3  290. ]\n",
      " [  34.   575. ]\n",
      " [  15.    19.9]\n",
      " [  37.  1000. ]]\n",
      "[1. 0. 1. 1. 0. 1. 1. 1. 1. 0. 1. 1. 1. 1. 0. 0. 1. 1. 1. 1. 1. 1. 1. 1.\n",
      " 1. 1. 0. 0. 1. 1. 1. 1. 1. 1. 0. 0. 1. 0. 1. 0. 1. 1. 1. 1. 1. 0. 1.]\n"
     ]
    }
   ],
   "source": [
    "print(fish_data)\n",
    "print(fish_target)"
   ]
  },
  {
   "cell_type": "code",
   "execution_count": 53,
   "id": "fbd1f647",
   "metadata": {},
   "outputs": [],
   "source": [
    "train_data = fish_data[:39]\n",
    "train_target = fish_target[:39]\n",
    "test_data = fish_data[39:]\n",
    "test_target = fish_data[39:]"
   ]
  },
  {
   "cell_type": "code",
   "execution_count": 54,
   "id": "927ddba4",
   "metadata": {},
   "outputs": [
    {
     "data": {
      "image/png": "[encoded data removed]",
      "text/plain": [
       "<Figure size 432x288 with 1 Axes>"
      ]
     },
     "metadata": {
      "needs_background": "light"
     },
     "output_type": "display_data"
    }
   ],
   "source": [
    "plt.scatter(test_data[:, 0], test_data[:, 1])\n",
    "plt.scatter(train_data[:, 0], train_data[:, 1])\n",
    "\n",
    "plt.xlabel('length')\n",
    "plt.ylabel('weight')\n",
    "plt.show()"
   ]
  },
  {
   "cell_type": "code",
   "execution_count": 55,
   "id": "6341b858",
   "metadata": {},
   "outputs": [
    {
     "data": {
      "image/png": "[encoded data removed]",
      "text/plain": [
       "<Figure size 432x288 with 1 Axes>"
      ]
     },
     "metadata": {
      "needs_background": "light"
     },
     "output_type": "display_data"
    }
   ],
   "source": [
    "plt.scatter(train_data[:, 0], train_data[:, 1])\n",
    "plt.xlabel('length')\n",
    "plt.ylabel('weight')\n",
    "plt.show()"
   ]
  },
  {
   "cell_type": "code",
   "execution_count": null,
   "id": "62f5c49f",
   "metadata": {},
   "outputs": [],
   "source": []
  }
 ],
 "metadata": {
  "kernelspec": {
   "display_name": "Python 3 (ipykernel)",
   "language": "python",
   "name": "python3"
  },
  "language_info": {
   "codemirror_mode": {
    "name": "ipython",
    "version": 3
   },
   "file_extension": ".py",
   "mimetype": "text/x-python",
   "name": "python",
   "nbconvert_exporter": "python",
   "pygments_lexer": "ipython3",
   "version": "3.9.7"
  }
 },
 "nbformat": 4,
 "nbformat_minor": 5
}
